{
  "nbformat": 4,
  "nbformat_minor": 0,
  "metadata": {
    "colab": {
      "provenance": [],
      "authorship_tag": "ABX9TyNOivM8v3MO8nlbYk1+kzAn",
      "include_colab_link": true
    },
    "kernelspec": {
      "name": "python3",
      "display_name": "Python 3"
    },
    "language_info": {
      "name": "python"
    }
  },
  "cells": [
    {
      "cell_type": "markdown",
      "metadata": {
        "id": "view-in-github",
        "colab_type": "text"
      },
      "source": [
        "<a href=\"https://colab.research.google.com/github/meetprajapati20/Automated-Attendance-System/blob/main/20162121010_PR1_AI.ipynb\" target=\"_parent\"><img src=\"https://colab.research.google.com/assets/colab-badge.svg\" alt=\"Open In Colab\"/></a>"
      ]
    },
    {
      "cell_type": "markdown",
      "source": [
        "## PRACTICAL 1 [Artificial Intelligence - 2CSE60E14]\n",
        "\n",
        "Name : Meet Prajapati\n",
        "\n",
        "ErNo : 20162121010\n",
        "\n",
        "---\n",
        "**AIM :** \n",
        "\n",
        "Create a weather expert system in python with help of the Experta library. \n",
        "\n",
        "**OBJECTIVE -** \n",
        "\n",
        "- This system should help its users in making a decision regarding “what you should bring when walking out of the house?” (i.e. an umbrella, a raincoat, or nothing). \n",
        "- Your system must ask user questions.\n",
        "- For ex., the system can ask - Is it raining? (y/n) and Is it windy? (y/n)\n",
        "Explore other questions and add knowledge based on that to make the system compatible with additional knowledge. ( Add Minimum 5 Questions )\n",
        "\n",
        "**SOLUTION :**\n",
        "\n",
        "\n"
      ],
      "metadata": {
        "id": "Zc8lxO8tjqBt"
      }
    },
    {
      "cell_type": "code",
      "execution_count": 55,
      "metadata": {
        "id": "ICnky2uG-AbO"
      },
      "outputs": [],
      "source": [
        "!pip install experta\n",
        "# import all experta library and time for additional effect like sleep\n",
        "from experta import *\n",
        "import time"
      ]
    },
    {
      "cell_type": "code",
      "source": [
        "# create class for weather fact it just pass the fact \n",
        "class weather(Fact):\n",
        "  pass\n",
        "\n",
        "# create all possible Rules for weatherCondition system in knowledgeEngine\n",
        "class weatherCondition(KnowledgeEngine):\n",
        "\n",
        "  # Create rules for weather wet condition\n",
        "  @Rule(weather(wet=\"rainy\"))\n",
        "  def rainy(self):\n",
        "    print(\"It is best to bring an umbrella and a raincoat if you need to go outside in rainy weather.\")\n",
        "    time.sleep(0.5)\n",
        "  @Rule(weather(wet=\"sunny\"))\n",
        "  def sunny(self):\n",
        "    print(\"It is a good idea to wear sunscreen and a hat if you need to go outside in sunny weather.\")\n",
        "    time.sleep(0.5)\n",
        "  @Rule(weather(wet=\"snowy\"))\n",
        "  def snowy(self):\n",
        "    print(\"It is best to wear warm clothing, a hat, gloves, and boots if you need to go outside in snowy weather.\")\n",
        "    time.sleep(0.5)\n",
        "  @Rule(weather(wet=\"windy\"))\n",
        "  def windy(self):\n",
        "    print(\"It is best to wear layers and secure any loose items if you need to go outside in windy weather.\") \n",
        "    time.sleep(0.5)\n",
        "  @Rule(AND(weather(wet=\"rainy\"),weather(wet=\"windy\"),weather(wet=\"snowy\"),weather(wet=\"sunny\")))\n",
        "  def all(self):\n",
        "    print(\"\\033[33mNote : Keep HANUMAN CHALISA with you.\\033[0m\")\n",
        "    time.sleep(0.5)\n",
        "  \n",
        "  # create rules based on temperature, duration and events for additional suggestion\n",
        "  @Rule(weather(temperature=\"hot\"))\n",
        "  def hot(self):\n",
        "    print(\" - Be sure to bring plenty of water and consider packing a reusable water bottle.\") \n",
        "    time.sleep(0.5)\n",
        "  @Rule(weather(temperature=\"cold\"))\n",
        "  def cold(self):\n",
        "    print(\" - Hot clothes\") \n",
        "    time.sleep(0.5)\n",
        "  @Rule(weather(duration=\"long\"))\n",
        "  def long(self):\n",
        "    print(\" - Medications for headache, sinus congestion, or dry skin. \\n - snacks\") \n",
        "    time.sleep(0.5)\n",
        "  @Rule(AND(weather(event=\"y\"),weather(duration=\"long\")))\n",
        "  def event_long(self):\n",
        "    print(\" - keep bag for carry your belongings\")\n",
        "    time.sleep(0.5)\n",
        "    \n",
        "  # create rule for null condition in input_ans\n",
        "  @Rule(weather(wet=\"nocondition\"))\n",
        "  def NoCondition(self):\n",
        "    print(\"Opps !! I think You missing Something. \\nBrain For Observing Weather? :)\")"
      ],
      "metadata": {
        "id": "cI0h_usM-8q3"
      },
      "execution_count": 56,
      "outputs": []
    },
    {
      "cell_type": "code",
      "source": [
        "# create engine for weatherCondition KnowldgeEngine\n",
        "engine = weatherCondition()\n",
        "# reset engone before use \n",
        "engine.reset()\n",
        "input_ans = []"
      ],
      "metadata": {
        "id": "jHUkotdZHO9W"
      },
      "execution_count": 57,
      "outputs": []
    },
    {
      "cell_type": "code",
      "source": [
        "print(\"=======================================================================================================\")\n",
        "print(\"> Please Answer below question for what should you bring with when walking out of the house:\")\n",
        "print(\"=======================================================================================================\")\n",
        "rainy = input(\"Is it rainy or cloudy? (y/n) \\t\")\n",
        "if rainy == \"y\":input_ans.append(\"rainy\")\n",
        "windy = input(\"Is it windy? (y/n) \\t\\t\")\n",
        "if windy == \"y\":input_ans.append(\"windy\")\n",
        "sunny = input(\"Is it sunny? (y/n) \\t\\t\")\n",
        "if sunny == \"y\":input_ans.append(\"sunny\")\n",
        "snowy = input(\"Is it snowy? (y/n) \\t\\t\")\n",
        "if snowy == \"y\":input_ans.append(\"snowy\")\n",
        "\n",
        "print(\"-------------------------------------------------------------------------------------------------------\")\n",
        "temperature = input(\"What is the temperature outside? (hot/cold)\\t\\t\\t\\t\")\n",
        "event = input(\"Are you planning on attending any special events or activities? (y/n)\\t\")\n",
        "duration = input(\"How long will you be outside for? (short/long)\\t\\t\\t\\t\")\n",
        "print(\"=======================================================================================================\\n> SUGGESTIONS : \")\n",
        "\n",
        "\n",
        "if len(input_ans)==0:\n",
        "  # if user not select any option\n",
        "  # then declare weather condition wet=\"nocondition\"\n",
        "  engine.declare(weather(wet=\"nocondition\"))\n",
        "else:\n",
        "  # iterate input_ans for decalre in engine\n",
        "  for i in input_ans:\n",
        "    engine.declare(weather(wet=i))\n",
        "    # run the KnoeldgeEngine for checking Rules define in it\n",
        "    engine.run()\n",
        "  engine.reset()\n",
        "\n",
        "# declare engine agin for Addition condition ans suggestion\n",
        "print(\"\\n> ADDITIONAL SUGGESTION:\")\n",
        "engine.declare(weather(temperature=temperature),weather(event=event),weather(duration=duration))\n",
        "engine.run()"
      ],
      "metadata": {
        "colab": {
          "base_uri": "https://localhost:8080/"
        },
        "id": "ytH98JdKHTd0",
        "outputId": "90390490-33ac-4505-ee06-53efb510fa83"
      },
      "execution_count": 58,
      "outputs": [
        {
          "output_type": "stream",
          "name": "stdout",
          "text": [
            "=======================================================================================================\n",
            "> Please Answer below question for what should you bring with when walking out of the house:\n",
            "=======================================================================================================\n",
            "Is it rainy or cloudy? (y/n) \ty\n",
            "Is it windy? (y/n) \t\ty\n",
            "Is it sunny? (y/n) \t\ty\n",
            "Is it snowy? (y/n) \t\ty\n",
            "-------------------------------------------------------------------------------------------------------\n",
            "What is the temperature outside? (hot/cold)\t\t\t\thot\n",
            "Are you planning on attending any special events or activities? (y/n)\ty\n",
            "How long will you be outside for? (short/long)\t\t\t\tlong\n",
            "=======================================================================================================\n",
            "> SUGGESTIONS : \n",
            "It is best to bring an umbrella and a raincoat if you need to go outside in rainy weather.\n",
            "It is best to wear layers and secure any loose items if you need to go outside in windy weather.\n",
            "It is a good idea to wear sunscreen and a hat if you need to go outside in sunny weather.\n",
            "\u001b[33mNote : Keep HANUMAN CHALISA with you.\u001b[0m\n",
            "It is best to wear warm clothing, a hat, gloves, and boots if you need to go outside in snowy weather.\n",
            "\n",
            "> ADDITIONAL SUGGESTION:\n",
            " - keep bag for carry your belongings\n",
            " - Medications for headache, sinus congestion, or dry skin. \n",
            " - snacks\n",
            " - Be sure to bring plenty of water and consider packing a reusable water bottle.\n"
          ]
        }
      ]
    }
  ]
}